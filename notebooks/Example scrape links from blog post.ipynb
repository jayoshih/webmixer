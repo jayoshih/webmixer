{
 "cells": [
  {
   "cell_type": "markdown",
   "metadata": {},
   "source": [
    "## Blog post scraper\n",
    "\n",
    "This sample code show how to register a custom link tag handler.\n",
    "If URL matches `H5P_EXAMPLES_DOMAINS` it will be passed on to `H5PResourcePageScraper` class."
   ]
  },
  {
   "cell_type": "code",
   "execution_count": 1,
   "metadata": {},
   "outputs": [],
   "source": [
    "blog_post_url = 'https://blog.digitallibrary.io/2019/12/03/testing-of-h5p-on-the-gdl/'"
   ]
  },
  {
   "cell_type": "code",
   "execution_count": 2,
   "metadata": {},
   "outputs": [],
   "source": [
    "import requests\n",
    "import webmixer \n",
    "\n",
    "from webmixer.scrapers.pages.base import COMMON_SCRAPERS\n",
    "from webmixer.scrapers.pages.base import HTMLPageScraper\n",
    "from webmixer.scrapers.pages.base import DefaultScraper, BasicPageScraper\n",
    "from webmixer.scrapers.tags import LinkTag, BasicScraperTag"
   ]
  },
  {
   "cell_type": "code",
   "execution_count": 17,
   "metadata": {},
   "outputs": [],
   "source": [
    "H5P_EXAMPLES_DOMAINS = [\n",
    "    'freelearning.io',\n",
    "    'gdl.h5p.com/content',\n",
    "]\n",
    "\n",
    "class H5PResourcePageLink(LinkTag):\n",
    "    selector = ('a',)\n",
    "    def process(self):\n",
    "        if any(d in self.link for d in H5P_EXAMPLES_DOMAINS):\n",
    "            print('processing link', self.link)\n",
    "            scraper = self.get_scraper()\n",
    "            html = scraper.process()\n",
    "\n",
    "    def get_relative_url(self, url):\n",
    "        return url\n",
    "\n",
    "    \n",
    "class H5PResourcePageScraper(BasicPageScraper):\n",
    "    @classmethod\n",
    "    def test(self, url):\n",
    "        print(' in H5PResourcePageScraper testing url', url)\n",
    "        return True\n",
    "\n",
    "class BlogPostScraper(HTMLPageScraper):\n",
    "    omit_list = [('img',), ('link',), ('script',)]\n",
    "    extra_tags = [H5PResourcePageLink]\n",
    "    scrapers = [H5PResourcePageScraper]\n",
    "\n",
    "    "
   ]
  },
  {
   "cell_type": "code",
   "execution_count": 18,
   "metadata": {},
   "outputs": [
    {
     "name": "stdout",
     "output_type": "stream",
     "text": [
      "processing link https://www.freelearning.io/2019/11/09/fat-king/\n",
      " in H5PResourcePageScraper testing url https://www.freelearning.io/2019/11/09/fat-king/\n",
      "processing link https://www.freelearning.io/2019/10/03/bear-likes-colours/\n",
      " in H5PResourcePageScraper testing url https://www.freelearning.io/2019/10/03/bear-likes-colours/\n",
      "processing link https://gdl.h5p.com/content/1290856088916939617\n",
      " in H5PResourcePageScraper testing url https://gdl.h5p.com/content/1290856088916939617\n",
      "processing link https://gdl.h5p.com/content/1290696314648095347\n",
      " in H5PResourcePageScraper testing url https://gdl.h5p.com/content/1290696314648095347\n",
      "processing link https://gdl.h5p.com/content/1290695667443897947\n",
      " in H5PResourcePageScraper testing url https://gdl.h5p.com/content/1290695667443897947\n",
      "processing link https://gdl.h5p.com/content/1290803462272968857\n",
      " in H5PResourcePageScraper testing url https://gdl.h5p.com/content/1290803462272968857\n",
      "processing link https://gdl.h5p.com/content/1290695574746997257\n",
      " in H5PResourcePageScraper testing url https://gdl.h5p.com/content/1290695574746997257\n",
      "processing link https://gdl.h5p.com/content/1290695780822599597\n",
      " in H5PResourcePageScraper testing url https://gdl.h5p.com/content/1290695780822599597\n",
      "processing link https://gdl.h5p.com/content/1290821559153737387\n",
      " in H5PResourcePageScraper testing url https://gdl.h5p.com/content/1290821559153737387\n",
      "processing link https://www.freelearning.io/2019/10/03/voice-test-days-of-the-week/\n",
      " in H5PResourcePageScraper testing url https://www.freelearning.io/2019/10/03/voice-test-days-of-the-week/\n",
      "processing link https://gdl.h5p.com/content/1290815383361343947\n",
      " in H5PResourcePageScraper testing url https://gdl.h5p.com/content/1290815383361343947\n",
      "processing link https://gdl.h5p.com/content/1290815687078965877\n",
      " in H5PResourcePageScraper testing url https://gdl.h5p.com/content/1290815687078965877\n",
      "processing link https://gdl.h5p.com/content/1290706875314400457\n",
      " in H5PResourcePageScraper testing url https://gdl.h5p.com/content/1290706875314400457\n"
     ]
    }
   ],
   "source": [
    "scraper = BlogPostScraper(blog_post_url)\n",
    "out_bytes = scraper.process()\n",
    "html = out_bytes.decode('utf-8-sig')"
   ]
  },
  {
   "cell_type": "code",
   "execution_count": null,
   "metadata": {
    "scrolled": false
   },
   "outputs": [],
   "source": []
  },
  {
   "cell_type": "code",
   "execution_count": null,
   "metadata": {},
   "outputs": [],
   "source": []
  },
  {
   "cell_type": "code",
   "execution_count": null,
   "metadata": {},
   "outputs": [],
   "source": []
  },
  {
   "cell_type": "code",
   "execution_count": null,
   "metadata": {
    "scrolled": false
   },
   "outputs": [],
   "source": []
  },
  {
   "cell_type": "code",
   "execution_count": null,
   "metadata": {},
   "outputs": [],
   "source": []
  },
  {
   "cell_type": "code",
   "execution_count": null,
   "metadata": {},
   "outputs": [],
   "source": []
  },
  {
   "cell_type": "code",
   "execution_count": null,
   "metadata": {},
   "outputs": [],
   "source": []
  }
 ],
 "metadata": {
  "kernelspec": {
   "display_name": "Python 3",
   "language": "python",
   "name": "python3"
  },
  "language_info": {
   "codemirror_mode": {
    "name": "ipython",
    "version": 3
   },
   "file_extension": ".py",
   "mimetype": "text/x-python",
   "name": "python",
   "nbconvert_exporter": "python",
   "pygments_lexer": "ipython3",
   "version": "3.7.4"
  }
 },
 "nbformat": 4,
 "nbformat_minor": 2
}
